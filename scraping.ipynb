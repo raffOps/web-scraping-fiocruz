{
 "cells": [
  {
   "cell_type": "code",
   "execution_count": 47,
   "metadata": {
    "ExecuteTime": {
     "end_time": "2020-04-16T13:18:09.034403Z",
     "start_time": "2020-04-16T13:18:09.031667Z"
    }
   },
   "outputs": [],
   "source": [
    "import requests\n",
    "from datetime import datetime\n",
    "from dateutil.relativedelta import relativedelta\n",
    "import pandas as pd\n",
    "import json\n"
   ]
  },
  {
   "cell_type": "code",
   "execution_count": 22,
   "metadata": {
    "ExecuteTime": {
     "end_time": "2020-04-16T13:08:47.840732Z",
     "start_time": "2020-04-16T13:08:47.835641Z"
    }
   },
   "outputs": [],
   "source": [
    "data_inicial = datetime(2009, 1, 1)\n",
    "data_final = datetime.now()"
   ]
  },
  {
   "cell_type": "code",
   "execution_count": 31,
   "metadata": {
    "ExecuteTime": {
     "end_time": "2020-04-16T13:11:25.380256Z",
     "start_time": "2020-04-16T13:11:25.377650Z"
    }
   },
   "outputs": [],
   "source": [
    "meses_transcoridos = relativedelta(data_final, data_inicial).years * 12 + \\\n",
    "                            relativedelta(data_final, data_inicial).months"
   ]
  },
  {
   "cell_type": "code",
   "execution_count": 101,
   "metadata": {
    "ExecuteTime": {
     "end_time": "2020-04-16T13:37:09.100515Z",
     "start_time": "2020-04-16T13:36:33.405355Z"
    }
   },
   "outputs": [],
   "source": [
    "relatorios = []\n",
    "for data in [data_inicial + relativedelta(months=mes) for mes in range(meses_transcoridos+1)]:\n",
    "    ano = data.year\n",
    "    mes = data.month\n",
    "    timestamp = int(datetime.timestamp(now) * 1000)\n",
    "    url = \"http://info.gripe.fiocruz.br/data/detailed/1/1/{}/{}/1/Brasil/data-table?_={}\".format(ano, mes, timestamp)\n",
    "    relatorio = pd.DataFrame(json.loads(requests.get(url).content)[\"data\"])\n",
    "    relatorio[\"epiyear\"] = ano\n",
    "    relatorios.append(relatorio)"
   ]
  },
  {
   "cell_type": "code",
   "execution_count": 104,
   "metadata": {
    "ExecuteTime": {
     "end_time": "2020-04-16T13:37:48.099563Z",
     "start_time": "2020-04-16T13:37:48.035958Z"
    }
   },
   "outputs": [
    {
     "data": {
      "text/html": [
       "<div>\n",
       "<style scoped>\n",
       "    .dataframe tbody tr th:only-of-type {\n",
       "        vertical-align: middle;\n",
       "    }\n",
       "\n",
       "    .dataframe tbody tr th {\n",
       "        vertical-align: top;\n",
       "    }\n",
       "\n",
       "    .dataframe thead th {\n",
       "        text-align: right;\n",
       "    }\n",
       "</style>\n",
       "<table border=\"1\" class=\"dataframe\">\n",
       "  <thead>\n",
       "    <tr style=\"text-align: right;\">\n",
       "      <th></th>\n",
       "      <th>territory_name</th>\n",
       "      <th>epiweek</th>\n",
       "      <th>situation_name</th>\n",
       "      <th>value</th>\n",
       "      <th>epiyear</th>\n",
       "    </tr>\n",
       "  </thead>\n",
       "  <tbody>\n",
       "    <tr>\n",
       "      <th>0</th>\n",
       "      <td>Acre</td>\n",
       "      <td>1</td>\n",
       "      <td>Dado estável. Sujeito a pequenas alterações.</td>\n",
       "      <td>0.00</td>\n",
       "      <td>2009</td>\n",
       "    </tr>\n",
       "    <tr>\n",
       "      <th>1</th>\n",
       "      <td>Alagoas</td>\n",
       "      <td>1</td>\n",
       "      <td>Dado estável. Sujeito a pequenas alterações.</td>\n",
       "      <td>0.00</td>\n",
       "      <td>2009</td>\n",
       "    </tr>\n",
       "    <tr>\n",
       "      <th>2</th>\n",
       "      <td>Amapá</td>\n",
       "      <td>1</td>\n",
       "      <td>Dado estável. Sujeito a pequenas alterações.</td>\n",
       "      <td>0.00</td>\n",
       "      <td>2009</td>\n",
       "    </tr>\n",
       "    <tr>\n",
       "      <th>3</th>\n",
       "      <td>Amazonas</td>\n",
       "      <td>1</td>\n",
       "      <td>Dado estável. Sujeito a pequenas alterações.</td>\n",
       "      <td>0.00</td>\n",
       "      <td>2009</td>\n",
       "    </tr>\n",
       "    <tr>\n",
       "      <th>4</th>\n",
       "      <td>Bahia</td>\n",
       "      <td>1</td>\n",
       "      <td>Dado estável. Sujeito a pequenas alterações.</td>\n",
       "      <td>0.00</td>\n",
       "      <td>2009</td>\n",
       "    </tr>\n",
       "    <tr>\n",
       "      <th>...</th>\n",
       "      <td>...</td>\n",
       "      <td>...</td>\n",
       "      <td>...</td>\n",
       "      <td>...</td>\n",
       "      <td>...</td>\n",
       "    </tr>\n",
       "    <tr>\n",
       "      <th>23</th>\n",
       "      <td>Roraima</td>\n",
       "      <td>4</td>\n",
       "      <td>Dado estável. Sujeito a pequenas alterações.</td>\n",
       "      <td>0.00</td>\n",
       "      <td>2020</td>\n",
       "    </tr>\n",
       "    <tr>\n",
       "      <th>24</th>\n",
       "      <td>Santa Catarina</td>\n",
       "      <td>4</td>\n",
       "      <td>Dado estável. Sujeito a pequenas alterações.</td>\n",
       "      <td>0.04 (1.0 % do país)</td>\n",
       "      <td>2020</td>\n",
       "    </tr>\n",
       "    <tr>\n",
       "      <th>25</th>\n",
       "      <td>Sergipe</td>\n",
       "      <td>4</td>\n",
       "      <td>Dado estável. Sujeito a pequenas alterações.</td>\n",
       "      <td>0.04 (0.3 % do país)</td>\n",
       "      <td>2020</td>\n",
       "    </tr>\n",
       "    <tr>\n",
       "      <th>26</th>\n",
       "      <td>São Paulo</td>\n",
       "      <td>4</td>\n",
       "      <td>Dado estável. Sujeito a pequenas alterações.</td>\n",
       "      <td>0.15 (22.3 % do país)</td>\n",
       "      <td>2020</td>\n",
       "    </tr>\n",
       "    <tr>\n",
       "      <th>27</th>\n",
       "      <td>Tocantins</td>\n",
       "      <td>4</td>\n",
       "      <td>Dado estável. Sujeito a pequenas alterações.</td>\n",
       "      <td>0.13 (0.6 % do país)</td>\n",
       "      <td>2020</td>\n",
       "    </tr>\n",
       "  </tbody>\n",
       "</table>\n",
       "<p>3808 rows × 5 columns</p>\n",
       "</div>"
      ],
      "text/plain": [
       "    territory_name  epiweek                                situation_name  \\\n",
       "0             Acre        1  Dado estável. Sujeito a pequenas alterações.   \n",
       "1          Alagoas        1  Dado estável. Sujeito a pequenas alterações.   \n",
       "2            Amapá        1  Dado estável. Sujeito a pequenas alterações.   \n",
       "3         Amazonas        1  Dado estável. Sujeito a pequenas alterações.   \n",
       "4            Bahia        1  Dado estável. Sujeito a pequenas alterações.   \n",
       "..             ...      ...                                           ...   \n",
       "23         Roraima        4  Dado estável. Sujeito a pequenas alterações.   \n",
       "24  Santa Catarina        4  Dado estável. Sujeito a pequenas alterações.   \n",
       "25         Sergipe        4  Dado estável. Sujeito a pequenas alterações.   \n",
       "26       São Paulo        4  Dado estável. Sujeito a pequenas alterações.   \n",
       "27       Tocantins        4  Dado estável. Sujeito a pequenas alterações.   \n",
       "\n",
       "                    value  epiyear  \n",
       "0                    0.00     2009  \n",
       "1                    0.00     2009  \n",
       "2                    0.00     2009  \n",
       "3                    0.00     2009  \n",
       "4                    0.00     2009  \n",
       "..                    ...      ...  \n",
       "23                   0.00     2020  \n",
       "24   0.04 (1.0 % do país)     2020  \n",
       "25   0.04 (0.3 % do país)     2020  \n",
       "26  0.15 (22.3 % do país)     2020  \n",
       "27   0.13 (0.6 % do país)     2020  \n",
       "\n",
       "[3808 rows x 5 columns]"
      ]
     },
     "execution_count": 104,
     "metadata": {},
     "output_type": "execute_result"
    }
   ],
   "source": [
    "relatorio_geral = pd.concat(relatorios)\n",
    "relatorio_geral"
   ]
  },
  {
   "cell_type": "code",
   "execution_count": null,
   "metadata": {},
   "outputs": [],
   "source": [
    "relatorio_getal"
   ]
  }
 ],
 "metadata": {
  "kernelspec": {
   "display_name": "Python 3",
   "language": "python",
   "name": "python3"
  },
  "language_info": {
   "codemirror_mode": {
    "name": "ipython",
    "version": 3
   },
   "file_extension": ".py",
   "mimetype": "text/x-python",
   "name": "python",
   "nbconvert_exporter": "python",
   "pygments_lexer": "ipython3",
   "version": "3.7.7"
  }
 },
 "nbformat": 4,
 "nbformat_minor": 4
}
