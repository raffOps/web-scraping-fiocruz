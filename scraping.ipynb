{
 "cells": [
  {
   "cell_type": "code",
   "execution_count": 1,
   "metadata": {
    "ExecuteTime": {
     "end_time": "2020-04-16T23:32:03.046686Z",
     "start_time": "2020-04-16T23:31:58.034752Z"
    }
   },
   "outputs": [],
   "source": [
    "import requests\n",
    "from datetime import datetime\n",
    "import pandas as pd\n",
    "import json"
   ]
  },
  {
   "cell_type": "code",
   "execution_count": null,
   "metadata": {
    "ExecuteTime": {
     "start_time": "2020-04-16T23:32:25.290Z"
    }
   },
   "outputs": [],
   "source": [
    "relatorios = []\n",
    "for ano in range(2009, datetime.now().year+1):\n",
    "    for semana in range(1, 53):\n",
    "        timestamp = int(datetime.timestamp(datetime.now()) * 1000)\n",
    "        url = \"http://info.gripe.fiocruz.br/data/detailed/1/1/{}/{}/1/Brasil/data-table?_={}\".format(ano, semana, timestamp)\n",
    "        relatorio = pd.DataFrame(json.loads(requests.get(url).content)[\"data\"])\n",
    "        relatorio[\"epiyear\"] = ano\n",
    "        relatorios.append(relatorio)"
   ]
  },
  {
   "cell_type": "code",
   "execution_count": 119,
   "metadata": {
    "ExecuteTime": {
     "end_time": "2020-04-16T13:58:33.999397Z",
     "start_time": "2020-04-16T13:58:33.639507Z"
    }
   },
   "outputs": [
    {
     "data": {
      "text/html": [
       "<div>\n",
       "<style scoped>\n",
       "    .dataframe tbody tr th:only-of-type {\n",
       "        vertical-align: middle;\n",
       "    }\n",
       "\n",
       "    .dataframe tbody tr th {\n",
       "        vertical-align: top;\n",
       "    }\n",
       "\n",
       "    .dataframe thead th {\n",
       "        text-align: right;\n",
       "    }\n",
       "</style>\n",
       "<table border=\"1\" class=\"dataframe\">\n",
       "  <thead>\n",
       "    <tr style=\"text-align: right;\">\n",
       "      <th></th>\n",
       "      <th>territory_name</th>\n",
       "      <th>epiweek</th>\n",
       "      <th>situation_name</th>\n",
       "      <th>value</th>\n",
       "      <th>epiyear</th>\n",
       "    </tr>\n",
       "  </thead>\n",
       "  <tbody>\n",
       "    <tr>\n",
       "      <th>0</th>\n",
       "      <td>Acre</td>\n",
       "      <td>1.0</td>\n",
       "      <td>Dado estável. Sujeito a pequenas alterações.</td>\n",
       "      <td>0.00</td>\n",
       "      <td>2009</td>\n",
       "    </tr>\n",
       "    <tr>\n",
       "      <th>1</th>\n",
       "      <td>Alagoas</td>\n",
       "      <td>1.0</td>\n",
       "      <td>Dado estável. Sujeito a pequenas alterações.</td>\n",
       "      <td>0.00</td>\n",
       "      <td>2009</td>\n",
       "    </tr>\n",
       "    <tr>\n",
       "      <th>2</th>\n",
       "      <td>Amapá</td>\n",
       "      <td>1.0</td>\n",
       "      <td>Dado estável. Sujeito a pequenas alterações.</td>\n",
       "      <td>0.00</td>\n",
       "      <td>2009</td>\n",
       "    </tr>\n",
       "    <tr>\n",
       "      <th>3</th>\n",
       "      <td>Amazonas</td>\n",
       "      <td>1.0</td>\n",
       "      <td>Dado estável. Sujeito a pequenas alterações.</td>\n",
       "      <td>0.00</td>\n",
       "      <td>2009</td>\n",
       "    </tr>\n",
       "    <tr>\n",
       "      <th>4</th>\n",
       "      <td>Bahia</td>\n",
       "      <td>1.0</td>\n",
       "      <td>Dado estável. Sujeito a pequenas alterações.</td>\n",
       "      <td>0.00</td>\n",
       "      <td>2009</td>\n",
       "    </tr>\n",
       "    <tr>\n",
       "      <th>...</th>\n",
       "      <td>...</td>\n",
       "      <td>...</td>\n",
       "      <td>...</td>\n",
       "      <td>...</td>\n",
       "      <td>...</td>\n",
       "    </tr>\n",
       "    <tr>\n",
       "      <th>23</th>\n",
       "      <td>Roraima</td>\n",
       "      <td>14.0</td>\n",
       "      <td>Estimado. Sujeito a alterações.</td>\n",
       "      <td>0.91 [0.18 - 3.29] (0.1 % do país)</td>\n",
       "      <td>2020</td>\n",
       "    </tr>\n",
       "    <tr>\n",
       "      <th>24</th>\n",
       "      <td>Santa Catarina</td>\n",
       "      <td>14.0</td>\n",
       "      <td>Estimado. Sujeito a alterações.</td>\n",
       "      <td>2.35 [1.29 - 4.76] (1.9 % do país)</td>\n",
       "      <td>2020</td>\n",
       "    </tr>\n",
       "    <tr>\n",
       "      <th>25</th>\n",
       "      <td>Sergipe</td>\n",
       "      <td>14.0</td>\n",
       "      <td>Dados incompletos. Sujeito a grandes alterações.</td>\n",
       "      <td>0.30 (0.1 % do país)</td>\n",
       "      <td>2020</td>\n",
       "    </tr>\n",
       "    <tr>\n",
       "      <th>26</th>\n",
       "      <td>São Paulo</td>\n",
       "      <td>14.0</td>\n",
       "      <td>Estimado. Sujeito a alterações.</td>\n",
       "      <td>9.79 [6.03 - 17.06] (50.9 % do país)</td>\n",
       "      <td>2020</td>\n",
       "    </tr>\n",
       "    <tr>\n",
       "      <th>27</th>\n",
       "      <td>Tocantins</td>\n",
       "      <td>14.0</td>\n",
       "      <td>Estimado. Sujeito a alterações.</td>\n",
       "      <td>0.69 [0.25 - 1.75] (0.1 % do país)</td>\n",
       "      <td>2020</td>\n",
       "    </tr>\n",
       "  </tbody>\n",
       "</table>\n",
       "<p>16408 rows × 5 columns</p>\n",
       "</div>"
      ],
      "text/plain": [
       "    territory_name  epiweek                                    situation_name  \\\n",
       "0             Acre      1.0      Dado estável. Sujeito a pequenas alterações.   \n",
       "1          Alagoas      1.0      Dado estável. Sujeito a pequenas alterações.   \n",
       "2            Amapá      1.0      Dado estável. Sujeito a pequenas alterações.   \n",
       "3         Amazonas      1.0      Dado estável. Sujeito a pequenas alterações.   \n",
       "4            Bahia      1.0      Dado estável. Sujeito a pequenas alterações.   \n",
       "..             ...      ...                                               ...   \n",
       "23         Roraima     14.0                   Estimado. Sujeito a alterações.   \n",
       "24  Santa Catarina     14.0                   Estimado. Sujeito a alterações.   \n",
       "25         Sergipe     14.0  Dados incompletos. Sujeito a grandes alterações.   \n",
       "26       São Paulo     14.0                   Estimado. Sujeito a alterações.   \n",
       "27       Tocantins     14.0                   Estimado. Sujeito a alterações.   \n",
       "\n",
       "                                   value  epiyear  \n",
       "0                                   0.00     2009  \n",
       "1                                   0.00     2009  \n",
       "2                                   0.00     2009  \n",
       "3                                   0.00     2009  \n",
       "4                                   0.00     2009  \n",
       "..                                   ...      ...  \n",
       "23    0.91 [0.18 - 3.29] (0.1 % do país)     2020  \n",
       "24    2.35 [1.29 - 4.76] (1.9 % do país)     2020  \n",
       "25                  0.30 (0.1 % do país)     2020  \n",
       "26  9.79 [6.03 - 17.06] (50.9 % do país)     2020  \n",
       "27    0.69 [0.25 - 1.75] (0.1 % do país)     2020  \n",
       "\n",
       "[16408 rows x 5 columns]"
      ]
     },
     "execution_count": 119,
     "metadata": {},
     "output_type": "execute_result"
    }
   ],
   "source": [
    "relatorio_geral = pd.concat(relatorios)\n",
    "relatorio_geral"
   ]
  },
  {
   "cell_type": "code",
   "execution_count": 120,
   "metadata": {
    "ExecuteTime": {
     "end_time": "2020-04-16T13:58:46.992799Z",
     "start_time": "2020-04-16T13:58:46.929122Z"
    }
   },
   "outputs": [],
   "source": [
    "relatorio_geral.to_csv(\"incidencia_SRAG.csv\")"
   ]
  },
  {
   "cell_type": "code",
   "execution_count": null,
   "metadata": {},
   "outputs": [],
   "source": []
  }
 ],
 "metadata": {
  "kernelspec": {
   "display_name": "Python 3",
   "language": "python",
   "name": "python3"
  },
  "language_info": {
   "codemirror_mode": {
    "name": "ipython",
    "version": 3
   },
   "file_extension": ".py",
   "mimetype": "text/x-python",
   "name": "python",
   "nbconvert_exporter": "python",
   "pygments_lexer": "ipython3",
   "version": "3.7.7"
  }
 },
 "nbformat": 4,
 "nbformat_minor": 4
}
