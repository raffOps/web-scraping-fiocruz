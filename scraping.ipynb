{
 "cells": [
  {
   "cell_type": "code",
   "execution_count": 47,
   "metadata": {
    "ExecuteTime": {
     "end_time": "2020-04-16T13:18:09.034403Z",
     "start_time": "2020-04-16T13:18:09.031667Z"
    }
   },
   "outputs": [],
   "source": [
    "import requests\n",
    "from datetime import datetime\n",
    "from dateutil.relativedelta import relativedelta\n",
    "import pandas as pd\n",
    "import json"
   ]
  },
  {
   "cell_type": "code",
   "execution_count": null,
   "metadata": {
    "ExecuteTime": {
     "start_time": "2020-04-16T13:55:17.659Z"
    }
   },
   "outputs": [],
   "source": [
    "relatorios = []\n",
    "for ano in range(2009, datetime.now().year+1):\n",
    "    for semana in range(1, 53):\n",
    "        timestamp = int(datetime.timestamp(now) * 1000)\n",
    "        url = \"http://info.gripe.fiocruz.br/data/detailed/1/1/{}/{}/1/Brasil/data-table?_={}\".format(ano, semana, timestamp)\n",
    "        relatorio = pd.DataFrame(json.loads(requests.get(url).content)[\"data\"])\n",
    "        relatorio[\"epiyear\"] = ano\n",
    "        relatorios.append(relatorio)"
   ]
  },
  {
   "cell_type": "code",
   "execution_count": null,
   "metadata": {
    "ExecuteTime": {
     "start_time": "2020-04-16T13:56:11.347Z"
    }
   },
   "outputs": [],
   "source": [
    "relatorio_geral = pd.concat(relatorios)\n",
    "relatorio_geral"
   ]
  },
  {
   "cell_type": "code",
   "execution_count": 105,
   "metadata": {
    "ExecuteTime": {
     "end_time": "2020-04-16T13:38:47.790408Z",
     "start_time": "2020-04-16T13:38:47.758118Z"
    }
   },
   "outputs": [],
   "source": [
    "relatorio_geral.to_csv(\"incidencia_SRAG.csv\")"
   ]
  },
  {
   "cell_type": "code",
   "execution_count": null,
   "metadata": {},
   "outputs": [],
   "source": []
  }
 ],
 "metadata": {
  "kernelspec": {
   "display_name": "Python 3",
   "language": "python",
   "name": "python3"
  },
  "language_info": {
   "codemirror_mode": {
    "name": "ipython",
    "version": 3
   },
   "file_extension": ".py",
   "mimetype": "text/x-python",
   "name": "python",
   "nbconvert_exporter": "python",
   "pygments_lexer": "ipython3",
   "version": "3.7.7"
  }
 },
 "nbformat": 4,
 "nbformat_minor": 4
}
